{
 "cells": [
  {
   "cell_type": "markdown",
   "id": "74ef4afd",
   "metadata": {},
   "source": [
    "Dictionary\n",
    "\n",
    "Build a phone book program that receives the phone number, and returns the name of the owner. \n",
    "You can follow the table below:\n",
    "\n",
    "| Name     | Number     |\n",
    "| -------- | ---------- |\n",
    "| Amal     | 1111111111 |\n",
    "| Mohammed | 2222222222 |\n",
    "| Khadijah | 3333333333 |\n",
    "| Abdullah | 4444444444 |\n",
    "| Rawan    | 5555555555 |\n",
    "| Faisal   | 6666666666 |\n",
    "| Layla    | 7777777777 |\n",
    "\n",
    "- If the number exists, print the owner. Otherwise, print \"Sorry, the number is not found\".\n",
    "- If the number is less or more than 10 numbers, print \"This is invalid number\".\n",
    "- If the number contains letters or symbols, print \"This is invalid number\".\n"
   ]
  },
  {
   "cell_type": "code",
   "execution_count": 73,
   "id": "5b6e8d35",
   "metadata": {},
   "outputs": [
    {
     "name": "stdout",
     "output_type": "stream",
     "text": [
      "Please enter the phone number: 7777777777\n",
      "The owner of the number 7777777777 is Layla\n"
     ]
    }
   ],
   "source": [
    "newDictionary= {\n",
    "    \"1111111111\":\"Amal\",\"2222222222\":\"Mohammed\",\"3333333333\":\"Khadijah\",\"4444444444\":\"Abdullah\",\"5555555555\":\"Rawan\",\\\n",
    "    \"6666666666\":\"Faisal\",\"7777777777\":\"Layla\"\n",
    "}\n",
    "\n",
    "phoneNumber = input(\"Please enter the phone number: \")\n",
    "\n",
    "def checkPhoneNum(phoneNumber):\n",
    "    if len(phoneNumber) != 10 or not phoneNumber.isdigit():\n",
    "        return \"This is an invalid number\"\n",
    "    elif phoneNumber in newDictionary:\n",
    "        return f\"The owner of the number {phoneNumber} is {newDictionary[phoneNumber]}\"\n",
    "    else:\n",
    "        return \"Sorry, the number is not found\"\n",
    "\n",
    "\n",
    "result = checkPhoneNum(phoneNumber)\n",
    "print(result)\n"
   ]
  }
 ],
 "metadata": {
  "kernelspec": {
   "display_name": "Python 3 (ipykernel)",
   "language": "python",
   "name": "python3"
  },
  "language_info": {
   "codemirror_mode": {
    "name": "ipython",
    "version": 3
   },
   "file_extension": ".py",
   "mimetype": "text/x-python",
   "name": "python",
   "nbconvert_exporter": "python",
   "pygments_lexer": "ipython3",
   "version": "3.11.5"
  }
 },
 "nbformat": 4,
 "nbformat_minor": 5
}
